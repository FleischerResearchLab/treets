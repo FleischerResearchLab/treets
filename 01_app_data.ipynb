{
 "cells": [
  {
   "cell_type": "code",
   "execution_count": null,
   "id": "e4c69f34",
   "metadata": {},
   "outputs": [],
   "source": [
    "# default_exp app_data"
   ]
  },
  {
   "cell_type": "markdown",
   "id": "88621ae7",
   "metadata": {},
   "source": [
    "# App Data Functions\n",
    "\n",
    "> General functions that will be used for processing app data."
   ]
  },
  {
   "cell_type": "code",
   "execution_count": null,
   "id": "7d523699",
   "metadata": {},
   "outputs": [],
   "source": [
    "# export \n",
    "import pandas as pd\n",
    "import numpy as np"
   ]
  },
  {
   "cell_type": "code",
   "execution_count": null,
   "id": "8588272c",
   "metadata": {},
   "outputs": [],
   "source": [
    "# export\n",
    "def filtering_usable_data(df, num_items, num_days):\n",
    "    '''\n",
    "    Description:\\n\n",
    "        This function filters the cleaned app data given certain criteria\\n\n",
    "    Input:\\n\n",
    "        - df (pd.DataFrame): the dataframe to be filtered\\n\n",
    "        - num_items (int):   number of items to be used as cut-off\\n\n",
    "        - num_days (int):    number of days to be used as cut-off\\n\n",
    "    Output:\\n\n",
    "        - df_usable:         a panda DataFrame with filtered rows\\n\n",
    "        - set_usable:        a set of unique_code to be included as \"usable\"\\n\n",
    "    Side Effects:\\n\n",
    "        None\\n\n",
    "    Requirements:\\n\n",
    "        df should have the following columns:\\n\n",
    "            - unique_code\\n\n",
    "            - desc_text\\n\n",
    "            - date\\n\n",
    "    Used in:\\n\n",
    "        Analysis pipeline\\n\n",
    "    '''\n",
    "    print(' => filtering_usable_data()')\n",
    "    print('  => using the following criteria:', num_items, 'items and', num_days, 'days logged in two weeks.')\n",
    "\n",
    "    # Item logged\n",
    "    log_item_count = df.groupby('unique_code').agg('count')[['desc_text']].rename(columns = {'desc_text': 'Total Logged'})\n",
    "\n",
    "    # Day counts\n",
    "    log_days_count = df[['unique_code', 'date']]\\\n",
    "        .drop_duplicates().groupby('unique_code').agg('count').rename(columns = {'date': 'Day Count'})\n",
    "\n",
    "    item_count_passed = set(log_item_count[log_item_count['Total Logged'] >= num_items].index)\n",
    "    day_count_passed = set(log_days_count[log_days_count['Day Count'] >= num_days].index)\n",
    "\n",
    "    print('  => # of public users pass the criteria:', end = ' ')\n",
    "    print(len(item_count_passed & day_count_passed))\n",
    "    passed_participant_set = item_count_passed & day_count_passed\n",
    "    df_usable = df.loc[df.unique_code.apply(lambda c: c in passed_participant_set)]\\\n",
    "        .dropna().copy().reset_index(drop = True)\n",
    "    # print('  => Now returning the pd.DataFrame object with the head like the following.')\n",
    "    # display(df_usable.head(5))\n",
    "    return df_usable, set(df_usable.unique_code.unique())"
   ]
  },
  {
   "cell_type": "code",
   "execution_count": null,
   "id": "ee11c36a",
   "metadata": {},
   "outputs": [],
   "source": []
  }
 ],
 "metadata": {
  "kernelspec": {
   "display_name": "Python 3",
   "language": "python",
   "name": "python3"
  }
 },
 "nbformat": 4,
 "nbformat_minor": 5
}
