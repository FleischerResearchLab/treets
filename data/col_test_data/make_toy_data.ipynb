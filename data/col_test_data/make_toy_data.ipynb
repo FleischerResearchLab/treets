{
 "cells": [
  {
   "cell_type": "code",
   "execution_count": null,
   "id": "245c784c",
   "metadata": {},
   "outputs": [],
   "source": [
    "import numpy as np\n",
    "import pandas as pd"
   ]
  },
  {
   "cell_type": "code",
   "execution_count": null,
   "id": "ec8ada25",
   "metadata": {},
   "outputs": [],
   "source": [
    "ref_sheet = pd.read_excel('toy_data_17May2021.xlsx')"
   ]
  },
  {
   "cell_type": "code",
   "execution_count": null,
   "id": "b779ea5f",
   "metadata": {},
   "outputs": [
    {
     "data": {
      "text/html": [
       "<div>\n",
       "<style scoped>\n",
       "    .dataframe tbody tr th:only-of-type {\n",
       "        vertical-align: middle;\n",
       "    }\n",
       "\n",
       "    .dataframe tbody tr th {\n",
       "        vertical-align: top;\n",
       "    }\n",
       "\n",
       "    .dataframe thead th {\n",
       "        text-align: right;\n",
       "    }\n",
       "</style>\n",
       "<table border=\"1\" class=\"dataframe\">\n",
       "  <thead>\n",
       "    <tr style=\"text-align: right;\">\n",
       "      <th></th>\n",
       "      <th>mCC_ID</th>\n",
       "      <th>Participant_Study_ID</th>\n",
       "      <th>Study Phase</th>\n",
       "      <th>Intervention group (TRE or HABIT)</th>\n",
       "      <th>Start_Day</th>\n",
       "      <th>End_day</th>\n",
       "      <th>Eating_Window_Start</th>\n",
       "      <th>Eating_Window_End</th>\n",
       "    </tr>\n",
       "  </thead>\n",
       "  <tbody>\n",
       "    <tr>\n",
       "      <th>0</th>\n",
       "      <td>yrt1999</td>\n",
       "      <td>2</td>\n",
       "      <td>S-REM</td>\n",
       "      <td>TRE</td>\n",
       "      <td>2021-05-12</td>\n",
       "      <td>2021-05-14</td>\n",
       "      <td>00:00:00</td>\n",
       "      <td>23:59:00</td>\n",
       "    </tr>\n",
       "    <tr>\n",
       "      <th>1</th>\n",
       "      <td>yrt1999</td>\n",
       "      <td>2</td>\n",
       "      <td>T3-INT</td>\n",
       "      <td>TRE</td>\n",
       "      <td>2021-05-15</td>\n",
       "      <td>2021-05-18</td>\n",
       "      <td>08:00:00</td>\n",
       "      <td>18:00:00</td>\n",
       "    </tr>\n",
       "  </tbody>\n",
       "</table>\n",
       "</div>"
      ],
      "text/plain": [
       "    mCC_ID  Participant_Study_ID Study Phase  \\\n",
       "0  yrt1999                     2       S-REM   \n",
       "1  yrt1999                     2      T3-INT   \n",
       "\n",
       "  Intervention group (TRE or HABIT)  Start_Day    End_day Eating_Window_Start  \\\n",
       "0                               TRE 2021-05-12 2021-05-14            00:00:00   \n",
       "1                               TRE 2021-05-15 2021-05-18            08:00:00   \n",
       "\n",
       "  Eating_Window_End  \n",
       "0          23:59:00  \n",
       "1          18:00:00  "
      ]
     },
     "execution_count": null,
     "metadata": {},
     "output_type": "execute_result"
    }
   ],
   "source": [
    "ref_sheet"
   ]
  },
  {
   "cell_type": "markdown",
   "id": "6633b76d",
   "metadata": {},
   "source": [
    "# make data for S-REM phase(no restriction on eating window)"
   ]
  },
  {
   "cell_type": "markdown",
   "id": "ca9497d8",
   "metadata": {},
   "source": [
    "## make data for 2021-05-12"
   ]
  },
  {
   "cell_type": "code",
   "execution_count": null,
   "id": "2b2e0923",
   "metadata": {},
   "outputs": [],
   "source": [
    "# create the log time\n",
    "original_logtime_512 = ['2021-05-12 02:30:00 +0000', '2021-05-12 02:45:00 +0000', '2021-05-12 04:45:00 +0000']\n",
    "# create the log content\n",
    "desc_text_512 = ['milk', 'some medication', 'cookie']\n",
    "# create food type\n",
    "food_type_512 = ['b', 'm', 'f']"
   ]
  },
  {
   "cell_type": "markdown",
   "id": "0cd4c838",
   "metadata": {},
   "source": [
    "## make data for 2021-05-13"
   ]
  },
  {
   "cell_type": "code",
   "execution_count": null,
   "id": "2f745859",
   "metadata": {},
   "outputs": [],
   "source": [
    "# create the log time\n",
    "original_logtime_513 = ['2021-05-13 04:30:00 +0000']\n",
    "# create the log content\n",
    "desc_text_513 = ['milk']\n",
    "# create food type\n",
    "food_type_513 = ['b']"
   ]
  },
  {
   "cell_type": "markdown",
   "id": "1db45c12",
   "metadata": {},
   "source": [
    "## make data for 2021-05-14"
   ]
  },
  {
   "cell_type": "code",
   "execution_count": null,
   "id": "b485cb06",
   "metadata": {},
   "outputs": [],
   "source": [
    "# create the log time\n",
    "original_logtime_514 = ['2021-05-14 02:30:00 +0000','2021-05-14 08:30:00 +0000','2021-05-14 12:30:00 +0000','2021-05-14 19:30:00 +0000']\n",
    "# create the log content\n",
    "desc_text_514 = ['coffee','milk', 'lunch', 'dinner']\n",
    "# create food type\n",
    "food_type_514 = ['b','b', 'f', 'f']"
   ]
  },
  {
   "cell_type": "code",
   "execution_count": null,
   "id": "1dbd2fd0",
   "metadata": {},
   "outputs": [
    {
     "data": {
      "text/html": [
       "<div>\n",
       "<style scoped>\n",
       "    .dataframe tbody tr th:only-of-type {\n",
       "        vertical-align: middle;\n",
       "    }\n",
       "\n",
       "    .dataframe tbody tr th {\n",
       "        vertical-align: top;\n",
       "    }\n",
       "\n",
       "    .dataframe thead th {\n",
       "        text-align: right;\n",
       "    }\n",
       "</style>\n",
       "<table border=\"1\" class=\"dataframe\">\n",
       "  <thead>\n",
       "    <tr style=\"text-align: right;\">\n",
       "      <th></th>\n",
       "      <th>original_logtime</th>\n",
       "      <th>desc_text</th>\n",
       "      <th>food_type</th>\n",
       "      <th>PID</th>\n",
       "    </tr>\n",
       "  </thead>\n",
       "  <tbody>\n",
       "    <tr>\n",
       "      <th>0</th>\n",
       "      <td>2021-05-12 02:30:00 +0000</td>\n",
       "      <td>milk</td>\n",
       "      <td>b</td>\n",
       "      <td>yrt1999</td>\n",
       "    </tr>\n",
       "    <tr>\n",
       "      <th>1</th>\n",
       "      <td>2021-05-12 02:45:00 +0000</td>\n",
       "      <td>some medication</td>\n",
       "      <td>m</td>\n",
       "      <td>yrt1999</td>\n",
       "    </tr>\n",
       "    <tr>\n",
       "      <th>2</th>\n",
       "      <td>2021-05-12 04:45:00 +0000</td>\n",
       "      <td>cookie</td>\n",
       "      <td>f</td>\n",
       "      <td>yrt1999</td>\n",
       "    </tr>\n",
       "    <tr>\n",
       "      <th>3</th>\n",
       "      <td>2021-05-13 04:30:00 +0000</td>\n",
       "      <td>milk</td>\n",
       "      <td>b</td>\n",
       "      <td>yrt1999</td>\n",
       "    </tr>\n",
       "    <tr>\n",
       "      <th>4</th>\n",
       "      <td>2021-05-14 02:30:00 +0000</td>\n",
       "      <td>coffee</td>\n",
       "      <td>b</td>\n",
       "      <td>yrt1999</td>\n",
       "    </tr>\n",
       "    <tr>\n",
       "      <th>5</th>\n",
       "      <td>2021-05-14 08:30:00 +0000</td>\n",
       "      <td>milk</td>\n",
       "      <td>b</td>\n",
       "      <td>yrt1999</td>\n",
       "    </tr>\n",
       "    <tr>\n",
       "      <th>6</th>\n",
       "      <td>2021-05-14 12:30:00 +0000</td>\n",
       "      <td>lunch</td>\n",
       "      <td>f</td>\n",
       "      <td>yrt1999</td>\n",
       "    </tr>\n",
       "    <tr>\n",
       "      <th>7</th>\n",
       "      <td>2021-05-14 19:30:00 +0000</td>\n",
       "      <td>dinner</td>\n",
       "      <td>f</td>\n",
       "      <td>yrt1999</td>\n",
       "    </tr>\n",
       "  </tbody>\n",
       "</table>\n",
       "</div>"
      ],
      "text/plain": [
       "            original_logtime        desc_text food_type      PID\n",
       "0  2021-05-12 02:30:00 +0000             milk         b  yrt1999\n",
       "1  2021-05-12 02:45:00 +0000  some medication         m  yrt1999\n",
       "2  2021-05-12 04:45:00 +0000           cookie         f  yrt1999\n",
       "3  2021-05-13 04:30:00 +0000             milk         b  yrt1999\n",
       "4  2021-05-14 02:30:00 +0000           coffee         b  yrt1999\n",
       "5  2021-05-14 08:30:00 +0000             milk         b  yrt1999\n",
       "6  2021-05-14 12:30:00 +0000            lunch         f  yrt1999\n",
       "7  2021-05-14 19:30:00 +0000           dinner         f  yrt1999"
      ]
     },
     "execution_count": null,
     "metadata": {},
     "output_type": "execute_result"
    }
   ],
   "source": [
    "# form the expected table for s-rem study phase\n",
    "df_srem = pd.DataFrame(data = {'original_logtime':original_logtime_512+original_logtime_513+original_logtime_514,\n",
    "                              'desc_text':desc_text_512+desc_text_513+desc_text_514,\n",
    "                              'food_type':food_type_512+food_type_513+food_type_514,\n",
    "                              })\n",
    "df_srem['PID'] = 'yrt1999'\n",
    "df_srem"
   ]
  },
  {
   "cell_type": "markdown",
   "id": "7fdfe6f3",
   "metadata": {},
   "source": [
    "# expected result for S-REM phase"
   ]
  },
  {
   "cell_type": "markdown",
   "id": "f85b066c",
   "metadata": {},
   "source": [
    "    phase_duration = 3\n",
    "    caloric_entries = 7\n",
    "    mean_daily_eating_window = 13.75\n",
    "    std_daily_eating_window = 9.78\n",
    "    earliest_entry = 4.75\n",
    "    _25 = np.percentile([4.75, 4.5, 26.5, 8.5, 12.5, 19.5, 27.75], 2.5) = 4.5375\n",
    "    _975 = np.percentile([4.75, 4.5, 26.5, 8.5, 12.5, 19.5, 27.75], 97.5) = 27.5625\n",
    "    duration_mid_95 = _975 - _25 = 23.025\n",
    "    logging_day_counts = 3\n",
    "    %_logging_day_counts = 1\n",
    "    good_logging_days = 2\n",
    "    %_good_logging_days = 0.67\n",
    "    good_window_days = 3\n",
    "    %_good_window_days = 1\n",
    "    outside_window_days = 0\n",
    "    %_outside_window_days = 0\n",
    "    adherent_days = 2\n",
    "    %_adherent_days = 0.67"
   ]
  },
  {
   "cell_type": "markdown",
   "id": "46c4feeb",
   "metadata": {},
   "source": [
    "# make data for T3-INT phase(no restriction on eating window)"
   ]
  },
  {
   "cell_type": "markdown",
   "id": "aae49655",
   "metadata": {},
   "source": [
    "## make data for 2021-05-15"
   ]
  },
  {
   "cell_type": "code",
   "execution_count": null,
   "id": "3febb191",
   "metadata": {},
   "outputs": [],
   "source": [
    "# create the log time\n",
    "original_logtime_515 = ['2021-05-15 07:30:00 +0000', '2021-05-15 08:30:00 +0000', '2021-05-15 03:45:00 +0000']\n",
    "# create the log content\n",
    "desc_text_515 = ['milk', 'some medication', 'steak']\n",
    "# create food type\n",
    "food_type_515 = ['b', 'm', 'f']"
   ]
  },
  {
   "cell_type": "markdown",
   "id": "c5adc2fb",
   "metadata": {},
   "source": [
    "## make data for 2021-05-16"
   ]
  },
  {
   "cell_type": "code",
   "execution_count": null,
   "id": "2869e5de",
   "metadata": {},
   "outputs": [],
   "source": [
    "# create the log time\n",
    "original_logtime_516 = ['2021-05-16 08:30:00 +0000', '2021-05-16 12:30:00 +0000', '2021-05-16 17:30:00 +0000']\n",
    "# create the log content\n",
    "desc_text_516 = ['milk', 'some food', 'food']\n",
    "# create food type\n",
    "food_type_516 = ['b', 'f', 'f']"
   ]
  },
  {
   "cell_type": "markdown",
   "id": "5fbb71cb",
   "metadata": {},
   "source": [
    "# make data for 2021-05-17"
   ]
  },
  {
   "cell_type": "code",
   "execution_count": null,
   "id": "923f53fd",
   "metadata": {},
   "outputs": [],
   "source": [
    "# create the log time\n",
    "original_logtime_517 = ['2021-05-17 08:30:00 +0000', '2021-05-17 12:30:00 +0000', '2021-05-17 17:30:00 +0000']\n",
    "# create the log content\n",
    "desc_text_517 = ['milk', 'some food', 'food']\n",
    "# create food type\n",
    "food_type_517 = ['b', 'f', 'f']"
   ]
  },
  {
   "cell_type": "markdown",
   "id": "19df3276",
   "metadata": {},
   "source": [
    "# make data for 2021-05-18"
   ]
  },
  {
   "cell_type": "code",
   "execution_count": null,
   "id": "b6a8111d",
   "metadata": {},
   "outputs": [],
   "source": [
    "# create the log time\n",
    "original_logtime_518 = ['2021-05-18 01:30:00 +0000']\n",
    "# create the log content\n",
    "desc_text_518 = ['sandwich']\n",
    "# create food type\n",
    "food_type_518 = ['f']"
   ]
  },
  {
   "cell_type": "code",
   "execution_count": null,
   "id": "aef84032",
   "metadata": {},
   "outputs": [
    {
     "data": {
      "text/html": [
       "<div>\n",
       "<style scoped>\n",
       "    .dataframe tbody tr th:only-of-type {\n",
       "        vertical-align: middle;\n",
       "    }\n",
       "\n",
       "    .dataframe tbody tr th {\n",
       "        vertical-align: top;\n",
       "    }\n",
       "\n",
       "    .dataframe thead th {\n",
       "        text-align: right;\n",
       "    }\n",
       "</style>\n",
       "<table border=\"1\" class=\"dataframe\">\n",
       "  <thead>\n",
       "    <tr style=\"text-align: right;\">\n",
       "      <th></th>\n",
       "      <th>original_logtime</th>\n",
       "      <th>desc_text</th>\n",
       "      <th>food_type</th>\n",
       "      <th>PID</th>\n",
       "    </tr>\n",
       "  </thead>\n",
       "  <tbody>\n",
       "    <tr>\n",
       "      <th>0</th>\n",
       "      <td>2021-05-15 07:30:00 +0000</td>\n",
       "      <td>milk</td>\n",
       "      <td>b</td>\n",
       "      <td>yrt1999</td>\n",
       "    </tr>\n",
       "    <tr>\n",
       "      <th>1</th>\n",
       "      <td>2021-05-15 08:30:00 +0000</td>\n",
       "      <td>some medication</td>\n",
       "      <td>m</td>\n",
       "      <td>yrt1999</td>\n",
       "    </tr>\n",
       "    <tr>\n",
       "      <th>2</th>\n",
       "      <td>2021-05-15 03:45:00 +0000</td>\n",
       "      <td>steak</td>\n",
       "      <td>f</td>\n",
       "      <td>yrt1999</td>\n",
       "    </tr>\n",
       "    <tr>\n",
       "      <th>3</th>\n",
       "      <td>2021-05-16 08:30:00 +0000</td>\n",
       "      <td>milk</td>\n",
       "      <td>b</td>\n",
       "      <td>yrt1999</td>\n",
       "    </tr>\n",
       "    <tr>\n",
       "      <th>4</th>\n",
       "      <td>2021-05-16 12:30:00 +0000</td>\n",
       "      <td>some food</td>\n",
       "      <td>f</td>\n",
       "      <td>yrt1999</td>\n",
       "    </tr>\n",
       "    <tr>\n",
       "      <th>5</th>\n",
       "      <td>2021-05-16 17:30:00 +0000</td>\n",
       "      <td>food</td>\n",
       "      <td>f</td>\n",
       "      <td>yrt1999</td>\n",
       "    </tr>\n",
       "    <tr>\n",
       "      <th>6</th>\n",
       "      <td>2021-05-17 08:30:00 +0000</td>\n",
       "      <td>milk</td>\n",
       "      <td>b</td>\n",
       "      <td>yrt1999</td>\n",
       "    </tr>\n",
       "    <tr>\n",
       "      <th>7</th>\n",
       "      <td>2021-05-17 12:30:00 +0000</td>\n",
       "      <td>some food</td>\n",
       "      <td>f</td>\n",
       "      <td>yrt1999</td>\n",
       "    </tr>\n",
       "    <tr>\n",
       "      <th>8</th>\n",
       "      <td>2021-05-17 17:30:00 +0000</td>\n",
       "      <td>food</td>\n",
       "      <td>f</td>\n",
       "      <td>yrt1999</td>\n",
       "    </tr>\n",
       "    <tr>\n",
       "      <th>9</th>\n",
       "      <td>2021-05-18 01:30:00 +0000</td>\n",
       "      <td>sandwich</td>\n",
       "      <td>f</td>\n",
       "      <td>yrt1999</td>\n",
       "    </tr>\n",
       "  </tbody>\n",
       "</table>\n",
       "</div>"
      ],
      "text/plain": [
       "            original_logtime        desc_text food_type      PID\n",
       "0  2021-05-15 07:30:00 +0000             milk         b  yrt1999\n",
       "1  2021-05-15 08:30:00 +0000  some medication         m  yrt1999\n",
       "2  2021-05-15 03:45:00 +0000            steak         f  yrt1999\n",
       "3  2021-05-16 08:30:00 +0000             milk         b  yrt1999\n",
       "4  2021-05-16 12:30:00 +0000        some food         f  yrt1999\n",
       "5  2021-05-16 17:30:00 +0000             food         f  yrt1999\n",
       "6  2021-05-17 08:30:00 +0000             milk         b  yrt1999\n",
       "7  2021-05-17 12:30:00 +0000        some food         f  yrt1999\n",
       "8  2021-05-17 17:30:00 +0000             food         f  yrt1999\n",
       "9  2021-05-18 01:30:00 +0000         sandwich         f  yrt1999"
      ]
     },
     "execution_count": null,
     "metadata": {},
     "output_type": "execute_result"
    }
   ],
   "source": [
    "# form the expected table for t3-int study phase\n",
    "df_t3int = pd.DataFrame(data = {'original_logtime':original_logtime_515+original_logtime_516+original_logtime_517+original_logtime_518,\n",
    "                              'desc_text':desc_text_515+desc_text_516+desc_text_517+desc_text_518,\n",
    "                              'food_type':food_type_515+food_type_516+food_type_517+food_type_518,\n",
    "                              })\n",
    "df_t3int['PID'] = 'yrt1999'\n",
    "df_t3int"
   ]
  },
  {
   "cell_type": "markdown",
   "id": "846ab154",
   "metadata": {},
   "source": [
    "    phase_duration = 4\n",
    "    caloric_entries = 8\n",
    "    mean_daily_eating_window = 6.75\n",
    "    std_daily_eating_window = 6.87\n",
    "    earliest_entry = 7.5\n",
    "    _25 = np.percentile([7.5, 8.5, 8.5, 12.5, 17.5, 8.5, 12.5, 17.5, 25.5], 2.5) = 7.7\n",
    "    _975 = np.percentile([7.5, 8.5, 8.5, 12.5, 17.5, 8.5, 12.5, 17.5, 25.5], 97.5) = 23.9\n",
    "    duration_mid_95 = _975 - _25 = 16.2\n",
    "    logging_day_counts = 3\n",
    "    %_logging_day_counts = 0.75\n",
    "    good_logging_days = 2\n",
    "    %_good_logging_days = 0.5\n",
    "    good_window_days = 1\n",
    "    %_good_window_days = 0.25\n",
    "    outside_window_days = 3\n",
    "    %_outside_window_days = 0.75\n",
    "    adherent_days = 1\n",
    "    %_adherent_days = 0.75"
   ]
  },
  {
   "cell_type": "markdown",
   "id": "b2d4243d",
   "metadata": {},
   "source": [
    "# concat two dataframes to make the full toy data"
   ]
  },
  {
   "cell_type": "code",
   "execution_count": null,
   "id": "4b79be01",
   "metadata": {},
   "outputs": [],
   "source": [
    "pd.concat([df_srem,df_t3int], axis=0).reset_index(drop=True).to_csv('yrt1999_food_data.csv')\n",
    "#original_logtime"
   ]
  }
 ],
 "metadata": {
  "kernelspec": {
   "display_name": "Python 3",
   "language": "python",
   "name": "python3"
  }
 },
 "nbformat": 4,
 "nbformat_minor": 5
}
