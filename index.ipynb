{
 "cells": [
  {
   "cell_type": "code",
   "execution_count": null,
   "metadata": {},
   "outputs": [],
   "source": [
    "#hide\n",
    "from treets import *"
   ]
  },
  {
   "cell_type": "markdown",
   "metadata": {},
   "source": [
    "# TREETS\n",
    "\n",
    "> Time Restricted Eating ExperimenTS."
   ]
  },
  {
   "cell_type": "markdown",
   "metadata": {},
   "source": [
    "## Install"
   ]
  },
  {
   "cell_type": "markdown",
   "metadata": {},
   "source": [
    "`pip install treets`"
   ]
  },
  {
   "cell_type": "markdown",
   "metadata": {},
   "source": [
    "## Example for data analysis on the Columbia study"
   ]
  },
  {
   "cell_type": "code",
   "execution_count": null,
   "metadata": {},
   "outputs": [],
   "source": [
    "import treets.columbia as treetsc\n",
    "import pandas as pd"
   ]
  },
  {
   "cell_type": "markdown",
   "metadata": {},
   "source": [
    "### Take a brief look on the food logging dataset and the reference information sheet"
   ]
  },
  {
   "cell_type": "code",
   "execution_count": null,
   "metadata": {},
   "outputs": [
    {
     "data": {
      "text/html": [
       "<div>\n",
       "<style scoped>\n",
       "    .dataframe tbody tr th:only-of-type {\n",
       "        vertical-align: middle;\n",
       "    }\n",
       "\n",
       "    .dataframe tbody tr th {\n",
       "        vertical-align: top;\n",
       "    }\n",
       "\n",
       "    .dataframe thead th {\n",
       "        text-align: right;\n",
       "    }\n",
       "</style>\n",
       "<table border=\"1\" class=\"dataframe\">\n",
       "  <thead>\n",
       "    <tr style=\"text-align: right;\">\n",
       "      <th></th>\n",
       "      <th>Unnamed: 0</th>\n",
       "      <th>original_logtime</th>\n",
       "      <th>desc_text</th>\n",
       "      <th>food_type</th>\n",
       "      <th>PID</th>\n",
       "    </tr>\n",
       "  </thead>\n",
       "  <tbody>\n",
       "    <tr>\n",
       "      <th>0</th>\n",
       "      <td>0</td>\n",
       "      <td>2021-05-12 02:30:00 +0000</td>\n",
       "      <td>milk</td>\n",
       "      <td>b</td>\n",
       "      <td>yrt1999</td>\n",
       "    </tr>\n",
       "    <tr>\n",
       "      <th>1</th>\n",
       "      <td>1</td>\n",
       "      <td>2021-05-12 02:45:00 +0000</td>\n",
       "      <td>some medication</td>\n",
       "      <td>m</td>\n",
       "      <td>yrt1999</td>\n",
       "    </tr>\n",
       "  </tbody>\n",
       "</table>\n",
       "</div>"
      ],
      "text/plain": [
       "   Unnamed: 0           original_logtime        desc_text food_type      PID\n",
       "0           0  2021-05-12 02:30:00 +0000             milk         b  yrt1999\n",
       "1           1  2021-05-12 02:45:00 +0000  some medication         m  yrt1999"
      ]
     },
     "execution_count": null,
     "metadata": {},
     "output_type": "execute_result"
    }
   ],
   "source": [
    "treetsc.read_logging_data('data/col_test_data').head(2)"
   ]
  },
  {
   "cell_type": "code",
   "execution_count": null,
   "metadata": {},
   "outputs": [
    {
     "data": {
      "text/html": [
       "<div>\n",
       "<style scoped>\n",
       "    .dataframe tbody tr th:only-of-type {\n",
       "        vertical-align: middle;\n",
       "    }\n",
       "\n",
       "    .dataframe tbody tr th {\n",
       "        vertical-align: top;\n",
       "    }\n",
       "\n",
       "    .dataframe thead th {\n",
       "        text-align: right;\n",
       "    }\n",
       "</style>\n",
       "<table border=\"1\" class=\"dataframe\">\n",
       "  <thead>\n",
       "    <tr style=\"text-align: right;\">\n",
       "      <th></th>\n",
       "      <th>mCC_ID</th>\n",
       "      <th>Participant_Study_ID</th>\n",
       "      <th>Study Phase</th>\n",
       "      <th>Intervention group (TRE or HABIT)</th>\n",
       "      <th>Start_Day</th>\n",
       "      <th>End_day</th>\n",
       "      <th>Eating_Window_Start</th>\n",
       "      <th>Eating_Window_End</th>\n",
       "    </tr>\n",
       "  </thead>\n",
       "  <tbody>\n",
       "    <tr>\n",
       "      <th>0</th>\n",
       "      <td>yrt1999</td>\n",
       "      <td>2</td>\n",
       "      <td>S-REM</td>\n",
       "      <td>TRE</td>\n",
       "      <td>2021-05-12</td>\n",
       "      <td>2021-05-14</td>\n",
       "      <td>00:00:00</td>\n",
       "      <td>23:59:00</td>\n",
       "    </tr>\n",
       "    <tr>\n",
       "      <th>1</th>\n",
       "      <td>yrt1999</td>\n",
       "      <td>2</td>\n",
       "      <td>T3-INT</td>\n",
       "      <td>TRE</td>\n",
       "      <td>2021-05-15</td>\n",
       "      <td>2021-05-18</td>\n",
       "      <td>08:00:00</td>\n",
       "      <td>18:00:00</td>\n",
       "    </tr>\n",
       "  </tbody>\n",
       "</table>\n",
       "</div>"
      ],
      "text/plain": [
       "    mCC_ID  Participant_Study_ID Study Phase  \\\n",
       "0  yrt1999                     2       S-REM   \n",
       "1  yrt1999                     2      T3-INT   \n",
       "\n",
       "  Intervention group (TRE or HABIT)  Start_Day    End_day Eating_Window_Start  \\\n",
       "0                               TRE 2021-05-12 2021-05-14            00:00:00   \n",
       "1                               TRE 2021-05-15 2021-05-18            08:00:00   \n",
       "\n",
       "  Eating_Window_End  \n",
       "0          23:59:00  \n",
       "1          18:00:00  "
      ]
     },
     "execution_count": null,
     "metadata": {},
     "output_type": "execute_result"
    }
   ],
   "source": [
    "pd.read_excel('data/col_test_data/toy_data_17May2021.xlsx').head(2)"
   ]
  },
  {
   "cell_type": "markdown",
   "metadata": {},
   "source": [
    "### make the table that contains extra analytic information that we want"
   ]
  },
  {
   "cell_type": "code",
   "execution_count": null,
   "metadata": {},
   "outputs": [
    {
     "name": "stdout",
     "output_type": "stream",
     "text": [
      "Participant yrt1999 didn't log any food items in the following day(s):\n",
      "2021-05-18\n",
      "Participant yrt2000 didn't log any food items in the following day(s):\n",
      "2021-05-12\n",
      "2021-05-13\n",
      "2021-05-14\n",
      "2021-05-15\n",
      "2021-05-16\n",
      "2021-05-17\n",
      "2021-05-18\n",
      "Participant yrt1999 have bad logging day(s) in the following day(s):\n",
      "2021-05-12\n",
      "2021-05-15\n",
      "Participant yrt1999 have bad window day(s) in the following day(s):\n",
      "2021-05-15\n",
      "2021-05-17\n",
      "Participant yrt1999 have non adherent day(s) in the following day(s):\n",
      "2021-05-12\n",
      "2021-05-15\n",
      "2021-05-17\n"
     ]
    }
   ],
   "source": [
    "df = treetsc.make_table(treetsc.read_logging_data('data/col_test_data')\\\n",
    "                      , pd.read_excel('data/col_test_data/toy_data_17May2021.xlsx'))"
   ]
  },
  {
   "cell_type": "code",
   "execution_count": null,
   "metadata": {},
   "outputs": [
    {
     "data": {
      "text/html": [
       "<div>\n",
       "<style scoped>\n",
       "    .dataframe tbody tr th:only-of-type {\n",
       "        vertical-align: middle;\n",
       "    }\n",
       "\n",
       "    .dataframe tbody tr th {\n",
       "        vertical-align: top;\n",
       "    }\n",
       "\n",
       "    .dataframe thead th {\n",
       "        text-align: right;\n",
       "    }\n",
       "</style>\n",
       "<table border=\"1\" class=\"dataframe\">\n",
       "  <thead>\n",
       "    <tr style=\"text-align: right;\">\n",
       "      <th></th>\n",
       "      <th>mCC_ID</th>\n",
       "      <th>Participant_Study_ID</th>\n",
       "      <th>Study Phase</th>\n",
       "      <th>Intervention group (TRE or HABIT)</th>\n",
       "      <th>Start_Day</th>\n",
       "      <th>End_day</th>\n",
       "      <th>Eating_Window_Start</th>\n",
       "      <th>Eating_Window_End</th>\n",
       "      <th>phase_duration</th>\n",
       "      <th>caloric_entries</th>\n",
       "      <th>...</th>\n",
       "      <th>logging_day_counts</th>\n",
       "      <th>%_logging_day_counts</th>\n",
       "      <th>good_logging_days</th>\n",
       "      <th>%_good_logging_days</th>\n",
       "      <th>good_window_days</th>\n",
       "      <th>%_good_window_days</th>\n",
       "      <th>outside_window_days</th>\n",
       "      <th>%_outside_window_days</th>\n",
       "      <th>adherent_days</th>\n",
       "      <th>%_adherent_days</th>\n",
       "    </tr>\n",
       "  </thead>\n",
       "  <tbody>\n",
       "    <tr>\n",
       "      <th>0</th>\n",
       "      <td>yrt1999</td>\n",
       "      <td>2</td>\n",
       "      <td>S-REM</td>\n",
       "      <td>TRE</td>\n",
       "      <td>2021-05-12</td>\n",
       "      <td>2021-05-14</td>\n",
       "      <td>00:00:00</td>\n",
       "      <td>23:59:00</td>\n",
       "      <td>3 days</td>\n",
       "      <td>7.0</td>\n",
       "      <td>...</td>\n",
       "      <td>3.0</td>\n",
       "      <td>1.00</td>\n",
       "      <td>2.0</td>\n",
       "      <td>0.666667</td>\n",
       "      <td>3.0</td>\n",
       "      <td>1.00</td>\n",
       "      <td>0.0</td>\n",
       "      <td>0.0</td>\n",
       "      <td>2.0</td>\n",
       "      <td>0.666667</td>\n",
       "    </tr>\n",
       "    <tr>\n",
       "      <th>1</th>\n",
       "      <td>yrt1999</td>\n",
       "      <td>2</td>\n",
       "      <td>T3-INT</td>\n",
       "      <td>TRE</td>\n",
       "      <td>2021-05-15</td>\n",
       "      <td>2021-05-18</td>\n",
       "      <td>08:00:00</td>\n",
       "      <td>18:00:00</td>\n",
       "      <td>4 days</td>\n",
       "      <td>8.0</td>\n",
       "      <td>...</td>\n",
       "      <td>3.0</td>\n",
       "      <td>0.75</td>\n",
       "      <td>2.0</td>\n",
       "      <td>0.500000</td>\n",
       "      <td>1.0</td>\n",
       "      <td>0.25</td>\n",
       "      <td>2.0</td>\n",
       "      <td>0.5</td>\n",
       "      <td>1.0</td>\n",
       "      <td>0.250000</td>\n",
       "    </tr>\n",
       "    <tr>\n",
       "      <th>2</th>\n",
       "      <td>yrt2000</td>\n",
       "      <td>3</td>\n",
       "      <td>T3-INT</td>\n",
       "      <td>TRE</td>\n",
       "      <td>2021-05-12</td>\n",
       "      <td>2021-05-14</td>\n",
       "      <td>08:00:00</td>\n",
       "      <td>16:00:00</td>\n",
       "      <td>3 days</td>\n",
       "      <td>0.0</td>\n",
       "      <td>...</td>\n",
       "      <td>0.0</td>\n",
       "      <td>0.00</td>\n",
       "      <td>0.0</td>\n",
       "      <td>0.000000</td>\n",
       "      <td>0.0</td>\n",
       "      <td>0.00</td>\n",
       "      <td>0.0</td>\n",
       "      <td>0.0</td>\n",
       "      <td>0.0</td>\n",
       "      <td>0.000000</td>\n",
       "    </tr>\n",
       "    <tr>\n",
       "      <th>3</th>\n",
       "      <td>yrt2000</td>\n",
       "      <td>3</td>\n",
       "      <td>T3-INT</td>\n",
       "      <td>TRE</td>\n",
       "      <td>2021-05-15</td>\n",
       "      <td>2021-05-18</td>\n",
       "      <td>08:00:00</td>\n",
       "      <td>16:00:00</td>\n",
       "      <td>4 days</td>\n",
       "      <td>0.0</td>\n",
       "      <td>...</td>\n",
       "      <td>0.0</td>\n",
       "      <td>0.00</td>\n",
       "      <td>0.0</td>\n",
       "      <td>0.000000</td>\n",
       "      <td>0.0</td>\n",
       "      <td>0.00</td>\n",
       "      <td>0.0</td>\n",
       "      <td>0.0</td>\n",
       "      <td>0.0</td>\n",
       "      <td>0.000000</td>\n",
       "    </tr>\n",
       "    <tr>\n",
       "      <th>4</th>\n",
       "      <td>yrt2001</td>\n",
       "      <td>4</td>\n",
       "      <td>T12-A</td>\n",
       "      <td>TRE</td>\n",
       "      <td>NaT</td>\n",
       "      <td>NaT</td>\n",
       "      <td>NaN</td>\n",
       "      <td>NaN</td>\n",
       "      <td>NaT</td>\n",
       "      <td>NaN</td>\n",
       "      <td>...</td>\n",
       "      <td>NaN</td>\n",
       "      <td>NaN</td>\n",
       "      <td>NaN</td>\n",
       "      <td>NaN</td>\n",
       "      <td>NaN</td>\n",
       "      <td>NaN</td>\n",
       "      <td>NaN</td>\n",
       "      <td>NaN</td>\n",
       "      <td>NaN</td>\n",
       "      <td>NaN</td>\n",
       "    </tr>\n",
       "  </tbody>\n",
       "</table>\n",
       "<p>5 rows × 26 columns</p>\n",
       "</div>"
      ],
      "text/plain": [
       "    mCC_ID  Participant_Study_ID Study Phase  \\\n",
       "0  yrt1999                     2       S-REM   \n",
       "1  yrt1999                     2      T3-INT   \n",
       "2  yrt2000                     3      T3-INT   \n",
       "3  yrt2000                     3      T3-INT   \n",
       "4  yrt2001                     4       T12-A   \n",
       "\n",
       "  Intervention group (TRE or HABIT)  Start_Day    End_day Eating_Window_Start  \\\n",
       "0                               TRE 2021-05-12 2021-05-14            00:00:00   \n",
       "1                               TRE 2021-05-15 2021-05-18            08:00:00   \n",
       "2                               TRE 2021-05-12 2021-05-14            08:00:00   \n",
       "3                               TRE 2021-05-15 2021-05-18            08:00:00   \n",
       "4                               TRE        NaT        NaT                 NaN   \n",
       "\n",
       "  Eating_Window_End phase_duration  caloric_entries  ...  logging_day_counts  \\\n",
       "0          23:59:00         3 days              7.0  ...                 3.0   \n",
       "1          18:00:00         4 days              8.0  ...                 3.0   \n",
       "2          16:00:00         3 days              0.0  ...                 0.0   \n",
       "3          16:00:00         4 days              0.0  ...                 0.0   \n",
       "4               NaN            NaT              NaN  ...                 NaN   \n",
       "\n",
       "   %_logging_day_counts  good_logging_days  %_good_logging_days  \\\n",
       "0                  1.00                2.0             0.666667   \n",
       "1                  0.75                2.0             0.500000   \n",
       "2                  0.00                0.0             0.000000   \n",
       "3                  0.00                0.0             0.000000   \n",
       "4                   NaN                NaN                  NaN   \n",
       "\n",
       "   good_window_days  %_good_window_days  outside_window_days  \\\n",
       "0               3.0                1.00                  0.0   \n",
       "1               1.0                0.25                  2.0   \n",
       "2               0.0                0.00                  0.0   \n",
       "3               0.0                0.00                  0.0   \n",
       "4               NaN                 NaN                  NaN   \n",
       "\n",
       "   %_outside_window_days  adherent_days  %_adherent_days  \n",
       "0                    0.0            2.0         0.666667  \n",
       "1                    0.5            1.0         0.250000  \n",
       "2                    0.0            0.0         0.000000  \n",
       "3                    0.0            0.0         0.000000  \n",
       "4                    NaN            NaN              NaN  \n",
       "\n",
       "[5 rows x 26 columns]"
      ]
     },
     "execution_count": null,
     "metadata": {},
     "output_type": "execute_result"
    }
   ],
   "source": [
    "df"
   ]
  },
  {
   "cell_type": "code",
   "execution_count": null,
   "metadata": {},
   "outputs": [
    {
     "data": {
      "text/plain": [
       "mCC_ID                                           yrt1999\n",
       "Participant_Study_ID                                   2\n",
       "Study Phase                                        S-REM\n",
       "Intervention group (TRE or HABIT)                    TRE\n",
       "Start_Day                            2021-05-12 00:00:00\n",
       "End_day                              2021-05-14 00:00:00\n",
       "Eating_Window_Start                             00:00:00\n",
       "Eating_Window_End                               23:59:00\n",
       "phase_duration                           3 days 00:00:00\n",
       "caloric_entries                                      7.0\n",
       "mean_daily_eating_window                           13.75\n",
       "std_daily_eating_window                        11.986972\n",
       "earliest_entry                                       4.5\n",
       "2.5%                                              4.5375\n",
       "97.5%                                            27.5625\n",
       "duration mid 95%                                  23.025\n",
       "logging_day_counts                                   3.0\n",
       "%_logging_day_counts                                 1.0\n",
       "good_logging_days                                    2.0\n",
       "%_good_logging_days                             0.666667\n",
       "good_window_days                                     3.0\n",
       "%_good_window_days                                   1.0\n",
       "outside_window_days                                  0.0\n",
       "%_outside_window_days                                0.0\n",
       "adherent_days                                        2.0\n",
       "%_adherent_days                                 0.666667\n",
       "Name: 0, dtype: object"
      ]
     },
     "execution_count": null,
     "metadata": {},
     "output_type": "execute_result"
    }
   ],
   "source": [
    "df.iloc[0]"
   ]
  },
  {
   "cell_type": "code",
   "execution_count": null,
   "metadata": {},
   "outputs": [
    {
     "data": {
      "text/plain": [
       "mCC_ID                                           yrt1999\n",
       "Participant_Study_ID                                   2\n",
       "Study Phase                                       T3-INT\n",
       "Intervention group (TRE or HABIT)                    TRE\n",
       "Start_Day                            2021-05-15 00:00:00\n",
       "End_day                              2021-05-18 00:00:00\n",
       "Eating_Window_Start                             08:00:00\n",
       "Eating_Window_End                               18:00:00\n",
       "phase_duration                           4 days 00:00:00\n",
       "caloric_entries                                      8.0\n",
       "mean_daily_eating_window                        8.666667\n",
       "std_daily_eating_window                         8.504901\n",
       "earliest_entry                                       7.5\n",
       "2.5%                                                 7.7\n",
       "97.5%                                               23.9\n",
       "duration mid 95%                                    16.2\n",
       "logging_day_counts                                   3.0\n",
       "%_logging_day_counts                                0.75\n",
       "good_logging_days                                    2.0\n",
       "%_good_logging_days                                  0.5\n",
       "good_window_days                                     1.0\n",
       "%_good_window_days                                  0.25\n",
       "outside_window_days                                  2.0\n",
       "%_outside_window_days                                0.5\n",
       "adherent_days                                        1.0\n",
       "%_adherent_days                                     0.25\n",
       "Name: 1, dtype: object"
      ]
     },
     "execution_count": null,
     "metadata": {},
     "output_type": "execute_result"
    }
   ],
   "source": [
    "df.iloc[1]"
   ]
  },
  {
   "cell_type": "markdown",
   "metadata": {},
   "source": [
    "## Example for data analysis using time restricted eating experiments core module"
   ]
  },
  {
   "cell_type": "code",
   "execution_count": null,
   "metadata": {},
   "outputs": [],
   "source": [
    "import treets.core as treets\n",
    "import pandas as pd"
   ]
  },
  {
   "cell_type": "markdown",
   "metadata": {},
   "source": [
    "### take a look at the original dataset"
   ]
  },
  {
   "cell_type": "code",
   "execution_count": null,
   "metadata": {},
   "outputs": [
    {
     "data": {
      "text/html": [
       "<div>\n",
       "<style scoped>\n",
       "    .dataframe tbody tr th:only-of-type {\n",
       "        vertical-align: middle;\n",
       "    }\n",
       "\n",
       "    .dataframe tbody tr th {\n",
       "        vertical-align: top;\n",
       "    }\n",
       "\n",
       "    .dataframe thead th {\n",
       "        text-align: right;\n",
       "    }\n",
       "</style>\n",
       "<table border=\"1\" class=\"dataframe\">\n",
       "  <thead>\n",
       "    <tr style=\"text-align: right;\">\n",
       "      <th></th>\n",
       "      <th>Unnamed: 0</th>\n",
       "      <th>ID</th>\n",
       "      <th>unique_code</th>\n",
       "      <th>research_info_id</th>\n",
       "      <th>desc_text</th>\n",
       "      <th>food_type</th>\n",
       "      <th>original_logtime</th>\n",
       "      <th>foodimage_file_name</th>\n",
       "    </tr>\n",
       "  </thead>\n",
       "  <tbody>\n",
       "    <tr>\n",
       "      <th>0</th>\n",
       "      <td>1340147</td>\n",
       "      <td>7572733</td>\n",
       "      <td>alqt14018795225</td>\n",
       "      <td>150</td>\n",
       "      <td>Water</td>\n",
       "      <td>w</td>\n",
       "      <td>2017-12-08 17:30:00+00:00</td>\n",
       "      <td>NaN</td>\n",
       "    </tr>\n",
       "    <tr>\n",
       "      <th>1</th>\n",
       "      <td>1340148</td>\n",
       "      <td>411111</td>\n",
       "      <td>alqt14018795225</td>\n",
       "      <td>150</td>\n",
       "      <td>Coffee White</td>\n",
       "      <td>b</td>\n",
       "      <td>2017-12-09 00:01:00+00:00</td>\n",
       "      <td>NaN</td>\n",
       "    </tr>\n",
       "  </tbody>\n",
       "</table>\n",
       "</div>"
      ],
      "text/plain": [
       "   Unnamed: 0       ID      unique_code  research_info_id     desc_text  \\\n",
       "0     1340147  7572733  alqt14018795225               150         Water   \n",
       "1     1340148   411111  alqt14018795225               150  Coffee White   \n",
       "\n",
       "  food_type           original_logtime foodimage_file_name  \n",
       "0         w  2017-12-08 17:30:00+00:00                 NaN  \n",
       "1         b  2017-12-09 00:01:00+00:00                 NaN  "
      ]
     },
     "execution_count": null,
     "metadata": {},
     "output_type": "execute_result"
    }
   ],
   "source": [
    "df = treets.file_loader('data/test_food_details.csv')\n",
    "df.head(2)"
   ]
  },
  {
   "cell_type": "markdown",
   "metadata": {},
   "source": [
    "### preprocess the data to have extra basic features"
   ]
  },
  {
   "cell_type": "code",
   "execution_count": null,
   "metadata": {},
   "outputs": [
    {
     "data": {
      "text/html": [
       "<div>\n",
       "<style scoped>\n",
       "    .dataframe tbody tr th:only-of-type {\n",
       "        vertical-align: middle;\n",
       "    }\n",
       "\n",
       "    .dataframe tbody tr th {\n",
       "        vertical-align: top;\n",
       "    }\n",
       "\n",
       "    .dataframe thead th {\n",
       "        text-align: right;\n",
       "    }\n",
       "</style>\n",
       "<table border=\"1\" class=\"dataframe\">\n",
       "  <thead>\n",
       "    <tr style=\"text-align: right;\">\n",
       "      <th></th>\n",
       "      <th>Unnamed: 0</th>\n",
       "      <th>ID</th>\n",
       "      <th>unique_code</th>\n",
       "      <th>research_info_id</th>\n",
       "      <th>desc_text</th>\n",
       "      <th>food_type</th>\n",
       "      <th>original_logtime</th>\n",
       "      <th>original_logtime_notz</th>\n",
       "      <th>date</th>\n",
       "      <th>local_time</th>\n",
       "      <th>time</th>\n",
       "      <th>week_from_start</th>\n",
       "      <th>year</th>\n",
       "    </tr>\n",
       "  </thead>\n",
       "  <tbody>\n",
       "    <tr>\n",
       "      <th>0</th>\n",
       "      <td>1340147</td>\n",
       "      <td>7572733</td>\n",
       "      <td>alqt14018795225</td>\n",
       "      <td>150</td>\n",
       "      <td>Water</td>\n",
       "      <td>w</td>\n",
       "      <td>2017-12-08 17:30:00+00:00</td>\n",
       "      <td>2017-12-08 17:30:00+00:00</td>\n",
       "      <td>2017-12-08</td>\n",
       "      <td>17.500000</td>\n",
       "      <td>17:30:00</td>\n",
       "      <td>1</td>\n",
       "      <td>2017</td>\n",
       "    </tr>\n",
       "    <tr>\n",
       "      <th>1</th>\n",
       "      <td>1340148</td>\n",
       "      <td>411111</td>\n",
       "      <td>alqt14018795225</td>\n",
       "      <td>150</td>\n",
       "      <td>Coffee White</td>\n",
       "      <td>b</td>\n",
       "      <td>2017-12-09 00:01:00+00:00</td>\n",
       "      <td>2017-12-09 00:01:00+00:00</td>\n",
       "      <td>2017-12-08</td>\n",
       "      <td>24.016667</td>\n",
       "      <td>00:01:00</td>\n",
       "      <td>1</td>\n",
       "      <td>2017</td>\n",
       "    </tr>\n",
       "  </tbody>\n",
       "</table>\n",
       "</div>"
      ],
      "text/plain": [
       "   Unnamed: 0       ID      unique_code  research_info_id     desc_text  \\\n",
       "0     1340147  7572733  alqt14018795225               150         Water   \n",
       "1     1340148   411111  alqt14018795225               150  Coffee White   \n",
       "\n",
       "  food_type           original_logtime     original_logtime_notz        date  \\\n",
       "0         w  2017-12-08 17:30:00+00:00 2017-12-08 17:30:00+00:00  2017-12-08   \n",
       "1         b  2017-12-09 00:01:00+00:00 2017-12-09 00:01:00+00:00  2017-12-08   \n",
       "\n",
       "   local_time      time  week_from_start  year  \n",
       "0   17.500000  17:30:00                1  2017  \n",
       "1   24.016667  00:01:00                1  2017  "
      ]
     },
     "execution_count": null,
     "metadata": {},
     "output_type": "execute_result"
    }
   ],
   "source": [
    "df = treets.load_public_data(df,4)\n",
    "df.head(2)"
   ]
  },
  {
   "cell_type": "markdown",
   "metadata": {},
   "source": [
    "### do a brief annalysis"
   ]
  },
  {
   "cell_type": "code",
   "execution_count": null,
   "metadata": {},
   "outputs": [
    {
     "data": {
      "text/html": [
       "<div>\n",
       "<style scoped>\n",
       "    .dataframe tbody tr th:only-of-type {\n",
       "        vertical-align: middle;\n",
       "    }\n",
       "\n",
       "    .dataframe tbody tr th {\n",
       "        vertical-align: top;\n",
       "    }\n",
       "\n",
       "    .dataframe thead th {\n",
       "        text-align: right;\n",
       "    }\n",
       "</style>\n",
       "<table border=\"1\" class=\"dataframe\">\n",
       "  <thead>\n",
       "    <tr style=\"text-align: right;\">\n",
       "      <th></th>\n",
       "      <th>unique_code</th>\n",
       "      <th>num_days</th>\n",
       "      <th>num_total_items</th>\n",
       "      <th>num_f_n_b</th>\n",
       "      <th>num_medications</th>\n",
       "      <th>num_water</th>\n",
       "      <th>first_cal_avg</th>\n",
       "      <th>first_cal_std</th>\n",
       "      <th>last_cal_avg</th>\n",
       "      <th>last_cal_std</th>\n",
       "      <th>eating_win_avg</th>\n",
       "      <th>eating_win_std</th>\n",
       "      <th>good_logging_count</th>\n",
       "      <th>first_cal variation (90%-10%)</th>\n",
       "      <th>last_cal variation (90%-10%)</th>\n",
       "      <th>2.5%</th>\n",
       "      <th>95%</th>\n",
       "      <th>duration mid 95%</th>\n",
       "    </tr>\n",
       "  </thead>\n",
       "  <tbody>\n",
       "    <tr>\n",
       "      <th>0</th>\n",
       "      <td>alqt1148284857</td>\n",
       "      <td>13</td>\n",
       "      <td>149</td>\n",
       "      <td>96</td>\n",
       "      <td>19</td>\n",
       "      <td>34</td>\n",
       "      <td>7.821795</td>\n",
       "      <td>6.710717</td>\n",
       "      <td>23.485897</td>\n",
       "      <td>4.869082</td>\n",
       "      <td>15.664103</td>\n",
       "      <td>-1.841635</td>\n",
       "      <td>146</td>\n",
       "      <td>2.966667</td>\n",
       "      <td>9.666667</td>\n",
       "      <td>4.535000</td>\n",
       "      <td>26.813333</td>\n",
       "      <td>22.636667</td>\n",
       "    </tr>\n",
       "    <tr>\n",
       "      <th>1</th>\n",
       "      <td>alqt14018795225</td>\n",
       "      <td>64</td>\n",
       "      <td>488</td>\n",
       "      <td>484</td>\n",
       "      <td>3</td>\n",
       "      <td>1</td>\n",
       "      <td>7.525781</td>\n",
       "      <td>5.434563</td>\n",
       "      <td>25.858594</td>\n",
       "      <td>3.374839</td>\n",
       "      <td>18.332813</td>\n",
       "      <td>-2.059723</td>\n",
       "      <td>484</td>\n",
       "      <td>13.450000</td>\n",
       "      <td>3.100000</td>\n",
       "      <td>4.183333</td>\n",
       "      <td>27.438333</td>\n",
       "      <td>23.416667</td>\n",
       "    </tr>\n",
       "  </tbody>\n",
       "</table>\n",
       "</div>"
      ],
      "text/plain": [
       "       unique_code  num_days  num_total_items  num_f_n_b  num_medications  \\\n",
       "0   alqt1148284857        13              149         96               19   \n",
       "1  alqt14018795225        64              488        484                3   \n",
       "\n",
       "   num_water  first_cal_avg  first_cal_std  last_cal_avg  last_cal_std  \\\n",
       "0         34       7.821795       6.710717     23.485897      4.869082   \n",
       "1          1       7.525781       5.434563     25.858594      3.374839   \n",
       "\n",
       "   eating_win_avg  eating_win_std  good_logging_count  \\\n",
       "0       15.664103       -1.841635                 146   \n",
       "1       18.332813       -2.059723                 484   \n",
       "\n",
       "   first_cal variation (90%-10%)  last_cal variation (90%-10%)      2.5%  \\\n",
       "0                       2.966667                      9.666667  4.535000   \n",
       "1                      13.450000                      3.100000  4.183333   \n",
       "\n",
       "         95%  duration mid 95%  \n",
       "0  26.813333         22.636667  \n",
       "1  27.438333         23.416667  "
      ]
     },
     "execution_count": null,
     "metadata": {},
     "output_type": "execute_result"
    }
   ],
   "source": [
    "df = treets.summarize_data(df, 'unique_code', 'local_time', 'date')\n",
    "df.head(2)"
   ]
  },
  {
   "cell_type": "code",
   "execution_count": null,
   "metadata": {},
   "outputs": [
    {
     "data": {
      "text/plain": [
       "unique_code                      alqt1148284857\n",
       "num_days                                     13\n",
       "num_total_items                             149\n",
       "num_f_n_b                                    96\n",
       "num_medications                              19\n",
       "num_water                                    34\n",
       "first_cal_avg                          7.821795\n",
       "first_cal_std                          6.710717\n",
       "last_cal_avg                          23.485897\n",
       "last_cal_std                           4.869082\n",
       "eating_win_avg                        15.664103\n",
       "eating_win_std                        -1.841635\n",
       "good_logging_count                          146\n",
       "first_cal variation (90%-10%)          2.966667\n",
       "last_cal variation (90%-10%)           9.666667\n",
       "2.5%                                      4.535\n",
       "95%                                   26.813333\n",
       "duration mid 95%                      22.636667\n",
       "Name: 0, dtype: object"
      ]
     },
     "execution_count": null,
     "metadata": {},
     "output_type": "execute_result"
    }
   ],
   "source": [
    "df.iloc[0]"
   ]
  },
  {
   "cell_type": "code",
   "execution_count": null,
   "metadata": {},
   "outputs": [
    {
     "data": {
      "text/plain": [
       "unique_code                      alqt14018795225\n",
       "num_days                                      64\n",
       "num_total_items                              488\n",
       "num_f_n_b                                    484\n",
       "num_medications                                3\n",
       "num_water                                      1\n",
       "first_cal_avg                           7.525781\n",
       "first_cal_std                           5.434563\n",
       "last_cal_avg                           25.858594\n",
       "last_cal_std                            3.374839\n",
       "eating_win_avg                         18.332813\n",
       "eating_win_std                         -2.059723\n",
       "good_logging_count                           484\n",
       "first_cal variation (90%-10%)              13.45\n",
       "last_cal variation (90%-10%)                 3.1\n",
       "2.5%                                    4.183333\n",
       "95%                                    27.438333\n",
       "duration mid 95%                       23.416667\n",
       "Name: 1, dtype: object"
      ]
     },
     "execution_count": null,
     "metadata": {},
     "output_type": "execute_result"
    }
   ],
   "source": [
    "df.iloc[1]"
   ]
  },
  {
   "cell_type": "code",
   "execution_count": null,
   "metadata": {},
   "outputs": [],
   "source": []
  }
 ],
 "metadata": {
  "kernelspec": {
   "display_name": "Python 3",
   "language": "python",
   "name": "python3"
  }
 },
 "nbformat": 4,
 "nbformat_minor": 2
}
