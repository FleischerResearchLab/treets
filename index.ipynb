{
 "cells": [
  {
   "cell_type": "code",
   "execution_count": null,
   "metadata": {},
   "outputs": [],
   "source": [
    "#hide\n",
    "from public_data_food_analysis_3 import *"
   ]
  },
  {
   "cell_type": "markdown",
   "metadata": {},
   "source": [
    "# Public data food analysis \n",
    "\n",
    "> Summary description here."
   ]
  },
  {
   "cell_type": "markdown",
   "metadata": {},
   "source": [
    "## Install"
   ]
  },
  {
   "cell_type": "markdown",
   "metadata": {},
   "source": [
    "`pip install public_data_food_analysis_3`"
   ]
  },
  {
   "cell_type": "markdown",
   "metadata": {},
   "source": [
    "## For data analysis on the Columbia study"
   ]
  },
  {
   "cell_type": "code",
   "execution_count": null,
   "metadata": {},
   "outputs": [],
   "source": [
    "import public_data_food_analysis_3.columbia as pdfac\n",
    "import pandas as pd"
   ]
  },
  {
   "cell_type": "code",
   "execution_count": null,
   "metadata": {},
   "outputs": [],
   "source": [
    "df = pdfac.make_table(pdfac.read_logging_data('data/col_test_data')\\\n",
    "                      , pd.read_excel('data/col_test_data/toy_data_17May2021.xlsx'))"
   ]
  },
  {
   "cell_type": "code",
   "execution_count": null,
   "metadata": {},
   "outputs": [
    {
     "data": {
      "text/html": [
       "<div>\n",
       "<style scoped>\n",
       "    .dataframe tbody tr th:only-of-type {\n",
       "        vertical-align: middle;\n",
       "    }\n",
       "\n",
       "    .dataframe tbody tr th {\n",
       "        vertical-align: top;\n",
       "    }\n",
       "\n",
       "    .dataframe thead th {\n",
       "        text-align: right;\n",
       "    }\n",
       "</style>\n",
       "<table border=\"1\" class=\"dataframe\">\n",
       "  <thead>\n",
       "    <tr style=\"text-align: right;\">\n",
       "      <th></th>\n",
       "      <th>mCC_ID</th>\n",
       "      <th>Participant_Study_ID</th>\n",
       "      <th>Study Phase</th>\n",
       "      <th>Intervention group (TRE or HABIT)</th>\n",
       "      <th>Start_Day</th>\n",
       "      <th>End_day</th>\n",
       "      <th>Eating_Window_Start</th>\n",
       "      <th>Eating_Window_End</th>\n",
       "      <th>phase_duration</th>\n",
       "      <th>caloric_entries</th>\n",
       "      <th>...</th>\n",
       "      <th>logging_day_counts</th>\n",
       "      <th>%_logging_day_counts</th>\n",
       "      <th>good_logging_days</th>\n",
       "      <th>%_good_logging_days</th>\n",
       "      <th>good_window_days</th>\n",
       "      <th>%_good_window_days</th>\n",
       "      <th>outside_window_days</th>\n",
       "      <th>%_outside_window_days</th>\n",
       "      <th>adherent_days</th>\n",
       "      <th>%_adherent_days</th>\n",
       "    </tr>\n",
       "  </thead>\n",
       "  <tbody>\n",
       "    <tr>\n",
       "      <th>0</th>\n",
       "      <td>yrt1999</td>\n",
       "      <td>2</td>\n",
       "      <td>S-REM</td>\n",
       "      <td>TRE</td>\n",
       "      <td>2021-05-12</td>\n",
       "      <td>2021-05-14</td>\n",
       "      <td>00:00:00</td>\n",
       "      <td>23:59:00</td>\n",
       "      <td>3 days</td>\n",
       "      <td>7</td>\n",
       "      <td>...</td>\n",
       "      <td>3</td>\n",
       "      <td>1.00</td>\n",
       "      <td>2</td>\n",
       "      <td>0.666667</td>\n",
       "      <td>3</td>\n",
       "      <td>1.00</td>\n",
       "      <td>0</td>\n",
       "      <td>0.0</td>\n",
       "      <td>2</td>\n",
       "      <td>0.666667</td>\n",
       "    </tr>\n",
       "    <tr>\n",
       "      <th>1</th>\n",
       "      <td>yrt1999</td>\n",
       "      <td>2</td>\n",
       "      <td>T3-INT</td>\n",
       "      <td>TRE</td>\n",
       "      <td>2021-05-15</td>\n",
       "      <td>2021-05-18</td>\n",
       "      <td>08:00:00</td>\n",
       "      <td>18:00:00</td>\n",
       "      <td>4 days</td>\n",
       "      <td>8</td>\n",
       "      <td>...</td>\n",
       "      <td>3</td>\n",
       "      <td>0.75</td>\n",
       "      <td>2</td>\n",
       "      <td>0.500000</td>\n",
       "      <td>1</td>\n",
       "      <td>0.25</td>\n",
       "      <td>2</td>\n",
       "      <td>0.5</td>\n",
       "      <td>1</td>\n",
       "      <td>0.250000</td>\n",
       "    </tr>\n",
       "  </tbody>\n",
       "</table>\n",
       "<p>2 rows × 26 columns</p>\n",
       "</div>"
      ],
      "text/plain": [
       "    mCC_ID  Participant_Study_ID Study Phase  \\\n",
       "0  yrt1999                     2       S-REM   \n",
       "1  yrt1999                     2      T3-INT   \n",
       "\n",
       "  Intervention group (TRE or HABIT)  Start_Day    End_day Eating_Window_Start  \\\n",
       "0                               TRE 2021-05-12 2021-05-14            00:00:00   \n",
       "1                               TRE 2021-05-15 2021-05-18            08:00:00   \n",
       "\n",
       "  Eating_Window_End phase_duration  caloric_entries  ...  logging_day_counts  \\\n",
       "0          23:59:00         3 days                7  ...                   3   \n",
       "1          18:00:00         4 days                8  ...                   3   \n",
       "\n",
       "   %_logging_day_counts  good_logging_days  %_good_logging_days  \\\n",
       "0                  1.00                  2             0.666667   \n",
       "1                  0.75                  2             0.500000   \n",
       "\n",
       "   good_window_days  %_good_window_days  outside_window_days  \\\n",
       "0                 3                1.00                    0   \n",
       "1                 1                0.25                    2   \n",
       "\n",
       "   %_outside_window_days  adherent_days  %_adherent_days  \n",
       "0                    0.0              2         0.666667  \n",
       "1                    0.5              1         0.250000  \n",
       "\n",
       "[2 rows x 26 columns]"
      ]
     },
     "execution_count": null,
     "metadata": {},
     "output_type": "execute_result"
    }
   ],
   "source": [
    "df"
   ]
  },
  {
   "cell_type": "code",
   "execution_count": null,
   "metadata": {},
   "outputs": [
    {
     "data": {
      "text/plain": [
       "mCC_ID                                           yrt1999\n",
       "Participant_Study_ID                                   2\n",
       "Study Phase                                        S-REM\n",
       "Intervention group (TRE or HABIT)                    TRE\n",
       "Start_Day                            2021-05-12 00:00:00\n",
       "End_day                              2021-05-14 00:00:00\n",
       "Eating_Window_Start                             00:00:00\n",
       "Eating_Window_End                               23:59:00\n",
       "phase_duration                           3 days 00:00:00\n",
       "caloric_entries                                        7\n",
       "mean_daily_eating_window                           13.75\n",
       "std_daily_eating_window                        11.986972\n",
       "earliest_entry                                       4.5\n",
       "2.5%                                              4.5375\n",
       "97.5%                                            27.5625\n",
       "duration mid 95%                                  23.025\n",
       "logging_day_counts                                     3\n",
       "%_logging_day_counts                                 1.0\n",
       "good_logging_days                                      2\n",
       "%_good_logging_days                             0.666667\n",
       "good_window_days                                       3\n",
       "%_good_window_days                                   1.0\n",
       "outside_window_days                                    0\n",
       "%_outside_window_days                                0.0\n",
       "adherent_days                                          2\n",
       "%_adherent_days                                 0.666667\n",
       "Name: 0, dtype: object"
      ]
     },
     "execution_count": null,
     "metadata": {},
     "output_type": "execute_result"
    }
   ],
   "source": [
    "df.iloc[0]"
   ]
  },
  {
   "cell_type": "code",
   "execution_count": null,
   "metadata": {},
   "outputs": [
    {
     "data": {
      "text/plain": [
       "mCC_ID                                           yrt1999\n",
       "Participant_Study_ID                                   2\n",
       "Study Phase                                       T3-INT\n",
       "Intervention group (TRE or HABIT)                    TRE\n",
       "Start_Day                            2021-05-15 00:00:00\n",
       "End_day                              2021-05-18 00:00:00\n",
       "Eating_Window_Start                             08:00:00\n",
       "Eating_Window_End                               18:00:00\n",
       "phase_duration                           4 days 00:00:00\n",
       "caloric_entries                                        8\n",
       "mean_daily_eating_window                        8.666667\n",
       "std_daily_eating_window                         8.504901\n",
       "earliest_entry                                       7.5\n",
       "2.5%                                                 7.7\n",
       "97.5%                                               23.9\n",
       "duration mid 95%                                    16.2\n",
       "logging_day_counts                                     3\n",
       "%_logging_day_counts                                0.75\n",
       "good_logging_days                                      2\n",
       "%_good_logging_days                                  0.5\n",
       "good_window_days                                       1\n",
       "%_good_window_days                                  0.25\n",
       "outside_window_days                                    2\n",
       "%_outside_window_days                                0.5\n",
       "adherent_days                                          1\n",
       "%_adherent_days                                     0.25\n",
       "Name: 1, dtype: object"
      ]
     },
     "execution_count": null,
     "metadata": {},
     "output_type": "execute_result"
    }
   ],
   "source": [
    "df.iloc[1]"
   ]
  }
 ],
 "metadata": {
  "kernelspec": {
   "display_name": "Python 3",
   "language": "python",
   "name": "python3"
  }
 },
 "nbformat": 4,
 "nbformat_minor": 2
}
